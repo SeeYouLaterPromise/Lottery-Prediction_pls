{
 "cells": [
  {
   "cell_type": "code",
   "execution_count": 1,
   "id": "initial_id",
   "metadata": {
    "ExecuteTime": {
     "end_time": "2024-06-23T06:53:08.766956Z",
     "start_time": "2024-06-23T06:53:07.997704Z"
    },
    "collapsed": true
   },
   "outputs": [
    {
     "name": "stdout",
     "output_type": "stream",
     "text": [
      "<class 'pandas.core.frame.DataFrame'>\n",
      "RangeIndex: 1469 entries, 0 to 1468\n",
      "Data columns (total 4 columns):\n",
      " #   Column  Non-Null Count  Dtype \n",
      "---  ------  --------------  ----- \n",
      " 0   期号      1469 non-null   int64 \n",
      " 1   中奖号码    1469 non-null   int64 \n",
      " 2   总和      1469 non-null   int64 \n",
      " 3   开奖日期    1469 non-null   object\n",
      "dtypes: int64(3), object(1)\n",
      "memory usage: 46.0+ KB\n"
     ]
    },
    {
     "data": {
      "text/plain": [
       "(None,\n",
       "       期号  中奖号码  总和        开奖日期\n",
       " 0  24135   891  18  2024-05-24\n",
       " 1  24134   660  12  2024-05-23\n",
       " 2  24133   281  11  2024-05-22\n",
       " 3  24132   604  10  2024-05-21\n",
       " 4  24131   571  13  2024-05-20)"
      ]
     },
     "execution_count": 1,
     "metadata": {},
     "output_type": "execute_result"
    }
   ],
   "source": [
    "import pandas as pd\n",
    "\n",
    "# Load the dataset to understand its structure\n",
    "file_path = 'pl.csv'\n",
    "data = pd.read_csv(file_path)\n",
    "\n",
    "# Display the first few rows of the dataset and its summary\n",
    "data_info = data.info()\n",
    "data_head = data.head()\n",
    "\n",
    "data_info, data_head\n"
   ]
  },
  {
   "cell_type": "code",
   "execution_count": 2,
   "id": "913527750d290b79",
   "metadata": {
    "ExecuteTime": {
     "end_time": "2024-06-23T06:53:11.169839Z",
     "start_time": "2024-06-23T06:53:11.128824Z"
    }
   },
   "outputs": [
    {
     "data": {
      "text/plain": [
       "(      期号  中奖号码  总和        开奖日期  个位  十位  百位\n",
       " 0  24135   891  18  2024-05-24   1   9   8\n",
       " 1  24134   660  12  2024-05-23   0   6   6\n",
       " 2  24133   281  11  2024-05-22   1   8   2\n",
       " 3  24132   604  10  2024-05-21   4   0   6\n",
       " 4  24131   571  13  2024-05-20   1   7   5,\n",
       "                  期号         中奖号码           总和           个位           十位  \\\n",
       " count   1469.000000  1469.000000  1469.000000  1469.000000  1469.000000   \n",
       " mean   21966.535058   499.882914    13.503063     4.545950     4.448604   \n",
       " std     1241.364376   288.012817     4.844534     2.877157     2.845400   \n",
       " min    20032.000000     1.000000     1.000000     0.000000     0.000000   \n",
       " 25%    21087.000000   248.000000    10.000000     2.000000     2.000000   \n",
       " 50%    22103.000000   495.000000    14.000000     5.000000     4.000000   \n",
       " 75%    23119.000000   751.000000    17.000000     7.000000     7.000000   \n",
       " max    24135.000000   998.000000    26.000000     9.000000     9.000000   \n",
       " \n",
       "                 百位  \n",
       " count  1469.000000  \n",
       " mean      4.508509  \n",
       " std       2.882951  \n",
       " min       0.000000  \n",
       " 25%       2.000000  \n",
       " 50%       4.000000  \n",
       " 75%       7.000000  \n",
       " max       9.000000  )"
      ]
     },
     "execution_count": 2,
     "metadata": {},
     "output_type": "execute_result"
    }
   ],
   "source": [
    "# 分解中奖号码为个位、十位和百位\n",
    "data['个位'] = data['中奖号码'] % 10\n",
    "data['十位'] = (data['中奖号码'] // 10) % 10\n",
    "data['百位'] = data['中奖号码'] // 100\n",
    "\n",
    "# 检查数据整理后的前几行和基本统计信息\n",
    "data_cleaned_head = data.head()\n",
    "data_cleaned_describe = data.describe()\n",
    "\n",
    "data_cleaned_head, data_cleaned_describe\n"
   ]
  },
  {
   "cell_type": "code",
   "execution_count": 3,
   "id": "14dd2f7c8b0458dc",
   "metadata": {
    "ExecuteTime": {
     "end_time": "2024-06-23T06:54:09.852847Z",
     "start_time": "2024-06-23T06:54:09.817194Z"
    }
   },
   "outputs": [
    {
     "data": {
      "text/html": [
       "<div>\n",
       "<style scoped>\n",
       "    .dataframe tbody tr th:only-of-type {\n",
       "        vertical-align: middle;\n",
       "    }\n",
       "\n",
       "    .dataframe tbody tr th {\n",
       "        vertical-align: top;\n",
       "    }\n",
       "\n",
       "    .dataframe thead th {\n",
       "        text-align: right;\n",
       "    }\n",
       "</style>\n",
       "<table border=\"1\" class=\"dataframe\">\n",
       "  <thead>\n",
       "    <tr style=\"text-align: right;\">\n",
       "      <th></th>\n",
       "      <th>期号</th>\n",
       "      <th>中奖号码</th>\n",
       "      <th>总和</th>\n",
       "      <th>开奖日期</th>\n",
       "      <th>个位</th>\n",
       "      <th>十位</th>\n",
       "      <th>百位</th>\n",
       "      <th>年</th>\n",
       "      <th>月</th>\n",
       "      <th>日</th>\n",
       "      <th>个位_3期平均</th>\n",
       "      <th>十位_3期平均</th>\n",
       "      <th>百位_3期平均</th>\n",
       "      <th>个位_3期标准差</th>\n",
       "      <th>十位_3期标准差</th>\n",
       "      <th>百位_3期标准差</th>\n",
       "    </tr>\n",
       "  </thead>\n",
       "  <tbody>\n",
       "    <tr>\n",
       "      <th>0</th>\n",
       "      <td>24135</td>\n",
       "      <td>891</td>\n",
       "      <td>18</td>\n",
       "      <td>2024-05-24</td>\n",
       "      <td>1</td>\n",
       "      <td>9</td>\n",
       "      <td>8</td>\n",
       "      <td>2024</td>\n",
       "      <td>5</td>\n",
       "      <td>24</td>\n",
       "      <td>0.666667</td>\n",
       "      <td>7.666667</td>\n",
       "      <td>5.333333</td>\n",
       "      <td>0.577350</td>\n",
       "      <td>1.527525</td>\n",
       "      <td>3.055050</td>\n",
       "    </tr>\n",
       "    <tr>\n",
       "      <th>1</th>\n",
       "      <td>24134</td>\n",
       "      <td>660</td>\n",
       "      <td>12</td>\n",
       "      <td>2024-05-23</td>\n",
       "      <td>0</td>\n",
       "      <td>6</td>\n",
       "      <td>6</td>\n",
       "      <td>2024</td>\n",
       "      <td>5</td>\n",
       "      <td>23</td>\n",
       "      <td>0.666667</td>\n",
       "      <td>7.666667</td>\n",
       "      <td>5.333333</td>\n",
       "      <td>0.577350</td>\n",
       "      <td>1.527525</td>\n",
       "      <td>3.055050</td>\n",
       "    </tr>\n",
       "    <tr>\n",
       "      <th>2</th>\n",
       "      <td>24133</td>\n",
       "      <td>281</td>\n",
       "      <td>11</td>\n",
       "      <td>2024-05-22</td>\n",
       "      <td>1</td>\n",
       "      <td>8</td>\n",
       "      <td>2</td>\n",
       "      <td>2024</td>\n",
       "      <td>5</td>\n",
       "      <td>22</td>\n",
       "      <td>0.666667</td>\n",
       "      <td>7.666667</td>\n",
       "      <td>5.333333</td>\n",
       "      <td>0.577350</td>\n",
       "      <td>1.527525</td>\n",
       "      <td>3.055050</td>\n",
       "    </tr>\n",
       "    <tr>\n",
       "      <th>3</th>\n",
       "      <td>24132</td>\n",
       "      <td>604</td>\n",
       "      <td>10</td>\n",
       "      <td>2024-05-21</td>\n",
       "      <td>4</td>\n",
       "      <td>0</td>\n",
       "      <td>6</td>\n",
       "      <td>2024</td>\n",
       "      <td>5</td>\n",
       "      <td>21</td>\n",
       "      <td>1.666667</td>\n",
       "      <td>4.666667</td>\n",
       "      <td>4.666667</td>\n",
       "      <td>2.081666</td>\n",
       "      <td>4.163332</td>\n",
       "      <td>2.309401</td>\n",
       "    </tr>\n",
       "    <tr>\n",
       "      <th>4</th>\n",
       "      <td>24131</td>\n",
       "      <td>571</td>\n",
       "      <td>13</td>\n",
       "      <td>2024-05-20</td>\n",
       "      <td>1</td>\n",
       "      <td>7</td>\n",
       "      <td>5</td>\n",
       "      <td>2024</td>\n",
       "      <td>5</td>\n",
       "      <td>20</td>\n",
       "      <td>2.000000</td>\n",
       "      <td>5.000000</td>\n",
       "      <td>4.333333</td>\n",
       "      <td>1.732051</td>\n",
       "      <td>4.358899</td>\n",
       "      <td>2.081666</td>\n",
       "    </tr>\n",
       "  </tbody>\n",
       "</table>\n",
       "</div>"
      ],
      "text/plain": [
       "      期号  中奖号码  总和       开奖日期  个位  十位  百位     年  月   日   个位_3期平均   十位_3期平均  \\\n",
       "0  24135   891  18 2024-05-24   1   9   8  2024  5  24  0.666667  7.666667   \n",
       "1  24134   660  12 2024-05-23   0   6   6  2024  5  23  0.666667  7.666667   \n",
       "2  24133   281  11 2024-05-22   1   8   2  2024  5  22  0.666667  7.666667   \n",
       "3  24132   604  10 2024-05-21   4   0   6  2024  5  21  1.666667  4.666667   \n",
       "4  24131   571  13 2024-05-20   1   7   5  2024  5  20  2.000000  5.000000   \n",
       "\n",
       "    百位_3期平均  个位_3期标准差  十位_3期标准差  百位_3期标准差  \n",
       "0  5.333333  0.577350  1.527525  3.055050  \n",
       "1  5.333333  0.577350  1.527525  3.055050  \n",
       "2  5.333333  0.577350  1.527525  3.055050  \n",
       "3  4.666667  2.081666  4.163332  2.309401  \n",
       "4  4.333333  1.732051  4.358899  2.081666  "
      ]
     },
     "execution_count": 3,
     "metadata": {},
     "output_type": "execute_result"
    }
   ],
   "source": [
    "# 引入时间数据处理库\n",
    "import numpy as np\n",
    "\n",
    "# 转换开奖日期为 datetime 类型，并提取年、月、日特征\n",
    "data['开奖日期'] = pd.to_datetime(data['开奖日期'])\n",
    "data['年'] = data['开奖日期'].dt.year\n",
    "data['月'] = data['开奖日期'].dt.month\n",
    "data['日'] = data['开奖日期'].dt.day\n",
    "\n",
    "# 创建滚动统计特征，这里我们使用窗口大小为3的滚动平均和标准差\n",
    "window_size = 3\n",
    "data['个位_3期平均'] = data['个位'].rolling(window=window_size).mean()\n",
    "data['十位_3期平均'] = data['十位'].rolling(window=window_size).mean()\n",
    "data['百位_3期平均'] = data['百位'].rolling(window=window_size).mean()\n",
    "\n",
    "data['个位_3期标准差'] = data['个位'].rolling(window=window_size).std()\n",
    "data['十位_3期标准差'] = data['十位'].rolling(window=window_size).std()\n",
    "data['百位_3期标准差'] = data['百位'].rolling(window=window_size).std()\n",
    "\n",
    "# 处理完成后的数据集中可能存在NaN值，因为滚动统计的开头几行没有足够的数据\n",
    "# 用前向填充解决这一问题\n",
    "data.fillna(method='ffill', inplace=True)\n",
    "data.fillna(method='bfill', inplace=True)  # 保险起见，也用后向填充处理最开始的几行\n",
    "\n",
    "# 查看处理后的数据集\n",
    "data_preprocessed_head = data.head()\n",
    "data_preprocessed_head\n"
   ]
  },
  {
   "cell_type": "code",
   "execution_count": 4,
   "id": "34673d83cc561b9c",
   "metadata": {
    "ExecuteTime": {
     "end_time": "2024-06-23T06:55:43.847522Z",
     "start_time": "2024-06-23T06:55:41.810185Z"
    }
   },
   "outputs": [
    {
     "data": {
      "text/plain": [
       "{'个位': 0.22448979591836735,\n",
       " '十位': 0.21428571428571427,\n",
       " '百位': 0.25170068027210885}"
      ]
     },
     "execution_count": 4,
     "metadata": {},
     "output_type": "execute_result"
    }
   ],
   "source": [
    "from sklearn.model_selection import train_test_split\n",
    "from sklearn.ensemble import RandomForestClassifier\n",
    "from sklearn.metrics import accuracy_score\n",
    "\n",
    "# 准备特征和目标变量\n",
    "features = data.drop(columns=['期号', '中奖号码', '总和', '开奖日期', '个位', '十位', '百位'])\n",
    "targets = data[['个位', '十位', '百位']]\n",
    "\n",
    "# 划分数据集为训练集和测试集\n",
    "X_train, X_test, y_train, y_test = train_test_split(features, targets, test_size=0.2, random_state=42)\n",
    "\n",
    "# 初始化模型\n",
    "rf_classifier_digit = RandomForestClassifier(n_estimators=100, random_state=42)\n",
    "\n",
    "# 训练模型和评估性能\n",
    "accuracy_results = {}\n",
    "for digit in ['个位', '十位', '百位']:\n",
    "    # 训练模型\n",
    "    rf_classifier_digit.fit(X_train, y_train[digit])\n",
    "    # 预测测试集\n",
    "    y_pred = rf_classifier_digit.predict(X_test)\n",
    "    # 计算准确率\n",
    "    accuracy = accuracy_score(y_test[digit], y_pred)\n",
    "    accuracy_results[digit] = accuracy\n",
    "\n",
    "accuracy_results\n"
   ]
  },
  {
   "cell_type": "code",
   "execution_count": 5,
   "id": "a013526faa07cc16",
   "metadata": {
    "ExecuteTime": {
     "end_time": "2024-06-23T06:56:00.014801Z",
     "start_time": "2024-06-23T06:55:59.734268Z"
    }
   },
   "outputs": [
    {
     "data": {
      "text/plain": [
       "{'个位': 0.07482993197278912,\n",
       " '十位': 0.09523809523809523,\n",
       " '百位': 0.12585034013605442}"
      ]
     },
     "execution_count": 5,
     "metadata": {},
     "output_type": "execute_result"
    }
   ],
   "source": [
    "from sklearn.svm import SVC\n",
    "\n",
    "# 初始化SVM模型\n",
    "svm_classifier_digit = SVC(random_state=42)\n",
    "\n",
    "# 训练模型和评估性能\n",
    "svm_accuracy_results = {}\n",
    "for digit in ['个位', '十位', '百位']:\n",
    "    # 训练模型\n",
    "    svm_classifier_digit.fit(X_train, y_train[digit])\n",
    "    # 预测测试集\n",
    "    y_pred_svm = svm_classifier_digit.predict(X_test)\n",
    "    # 计算准确率\n",
    "    svm_accuracy = accuracy_score(y_test[digit], y_pred_svm)\n",
    "    svm_accuracy_results[digit] = svm_accuracy\n",
    "\n",
    "svm_accuracy_results\n"
   ]
  },
  {
   "cell_type": "code",
   "execution_count": 6,
   "id": "dbded21cbadbe01f",
   "metadata": {
    "ExecuteTime": {
     "end_time": "2024-06-23T06:57:26.077130Z",
     "start_time": "2024-06-23T06:57:25.283894Z"
    }
   },
   "outputs": [
    {
     "data": {
      "text/plain": [
       "{'个位': 0.2687074829931973, '十位': 0.2653061224489796, '百位': 0.30272108843537415}"
      ]
     },
     "execution_count": 6,
     "metadata": {},
     "output_type": "execute_result"
    }
   ],
   "source": [
    "# 添加总和特征\n",
    "X_train_with_sum = X_train.assign(总和=data.loc[X_train.index, '总和'])\n",
    "X_test_with_sum = X_test.assign(总和=data.loc[X_test.index, '总和'])\n",
    "\n",
    "# 使用随机森林模型重新训练，考虑新的特征集\n",
    "rf_classifier_with_sum = RandomForestClassifier(n_estimators=100, random_state=42)\n",
    "\n",
    "# 训练模型和评估性能，包含总和作为特征\n",
    "accuracy_results_with_sum = {}\n",
    "for digit in ['个位', '十位', '百位']:\n",
    "    # 训练模型\n",
    "    rf_classifier_with_sum.fit(X_train_with_sum, y_train[digit])\n",
    "    # 预测测试集\n",
    "    y_pred_with_sum = rf_classifier_with_sum.predict(X_test_with_sum)\n",
    "    # 计算准确率\n",
    "    accuracy_with_sum = accuracy_score(y_test[digit], y_pred_with_sum)\n",
    "    accuracy_results_with_sum[digit] = accuracy_with_sum\n",
    "\n",
    "accuracy_results_with_sum\n"
   ]
  },
  {
   "cell_type": "code",
   "execution_count": 7,
   "id": "15a6ef8f7f14d2f3",
   "metadata": {
    "ExecuteTime": {
     "end_time": "2024-06-23T06:58:24.071854Z",
     "start_time": "2024-06-23T06:58:23.211364Z"
    }
   },
   "outputs": [
    {
     "data": {
      "text/plain": [
       "{'个位': 0.35034013605442177, '十位': 0.3435374149659864, '百位': 0.3979591836734694}"
      ]
     },
     "execution_count": 7,
     "metadata": {},
     "output_type": "execute_result"
    }
   ],
   "source": [
    "# 选择滞后期数\n",
    "lags = [1, 2, 3]\n",
    "\n",
    "# 构建滞后特征\n",
    "for lag in lags:\n",
    "    X_train_with_sum[f'个位_lag{lag}'] = data['个位'].shift(lag).iloc[X_train_with_sum.index]\n",
    "    X_train_with_sum[f'十位_lag{lag}'] = data['十位'].shift(lag).iloc[X_train_with_sum.index]\n",
    "    X_train_with_sum[f'百位_lag{lag}'] = data['百位'].shift(lag).iloc[X_train_with_sum.index]\n",
    "\n",
    "    X_test_with_sum[f'个位_lag{lag}'] = data['个位'].shift(lag).iloc[X_test_with_sum.index]\n",
    "    X_test_with_sum[f'十位_lag{lag}'] = data['十位'].shift(lag).iloc[X_test_with_sum.index]\n",
    "    X_test_with_sum[f'百位_lag{lag}'] = data['百位'].shift(lag).iloc[X_test_with_sum.index]\n",
    "\n",
    "# 填充因引入滞后特征产生的任何NaN值\n",
    "X_train_with_sum.fillna(method='bfill', inplace=True)\n",
    "X_test_with_sum.fillna(method='bfill', inplace=True)\n",
    "\n",
    "# 重新训练模型\n",
    "accuracy_results_with_lags = {}\n",
    "for digit in ['个位', '十位', '百位']:\n",
    "    # 训练模型\n",
    "    rf_classifier_with_sum.fit(X_train_with_sum, y_train[digit])\n",
    "    # 预测测试集\n",
    "    y_pred_with_lags = rf_classifier_with_sum.predict(X_test_with_sum)\n",
    "    # 计算准确率\n",
    "    accuracy_with_lags = accuracy_score(y_test[digit], y_pred_with_lags)\n",
    "    accuracy_results_with_lags[digit] = accuracy_with_lags\n",
    "\n",
    "accuracy_results_with_lags\n"
   ]
  },
  {
   "cell_type": "code",
   "execution_count": 9,
   "id": "de044e5da46fbc58",
   "metadata": {
    "ExecuteTime": {
     "end_time": "2024-06-23T06:59:17.578016Z",
     "start_time": "2024-06-23T06:59:16.673608Z"
    }
   },
   "outputs": [
    {
     "data": {
      "text/plain": [
       "{'个位': 0.6938775510204082, '十位': 0.7789115646258503, '百位': 0.782312925170068}"
      ]
     },
     "execution_count": 9,
     "metadata": {},
     "output_type": "execute_result"
    }
   ],
   "source": [
    "# 重新添加数字位列到训练和测试集，因为之前的操作中可能未包含这些列\n",
    "X_train_with_sum['个位'] = data.loc[X_train.index, '个位']\n",
    "X_train_with_sum['十位'] = data.loc[X_train.index, '十位']\n",
    "X_train_with_sum['百位'] = data.loc[X_train.index, '百位']\n",
    "X_test_with_sum['个位'] = data.loc[X_test.index, '个位']\n",
    "X_test_with_sum['十位'] = data.loc[X_test.index, '十位']\n",
    "X_test_with_sum['百位'] = data.loc[X_test.index, '百位']\n",
    "\n",
    "# 重新创建交互特征\n",
    "X_train_with_sum['百十和'] = X_train_with_sum['百位'] + X_train_with_sum['十位']\n",
    "X_train_with_sum['百个和'] = X_train_with_sum['百位'] + X_train_with_sum['个位']\n",
    "X_train_with_sum['十个和'] = X_train_with_sum['十位'] + X_train_with_sum['个位']\n",
    "X_train_with_sum['百十乘'] = X_train_with_sum['百位'] * X_train_with_sum['十位']\n",
    "X_train_with_sum['百个乘'] = X_train_with_sum['百位'] * X_train_with_sum['个位']\n",
    "X_train_with_sum['十个乘'] = X_train_with_sum['十位'] * X_train_with_sum['个位']\n",
    "\n",
    "X_test_with_sum['百十和'] = X_test_with_sum['百位'] + X_test_with_sum['十位']\n",
    "X_test_with_sum['百个和'] = X_test_with_sum['百位'] + X_test_with_sum['个位']\n",
    "X_test_with_sum['十个和'] = X_test_with_sum['十位'] + X_test_with_sum['个位']\n",
    "X_test_with_sum['百十乘'] = X_test_with_sum['百位'] * X_test_with_sum['十位']\n",
    "X_test_with_sum['百个乘'] = X_test_with_sum['百位'] * X_test_with_sum['个位']\n",
    "X_test_with_sum['十个乘'] = X_test_with_sum['十位'] * X_test_with_sum['个位']\n",
    "\n",
    "# 重新训练模型并评估\n",
    "# 初始化用于存储结果的字典\n",
    "accuracy_results_with_interactions = {}\n",
    "for digit in ['个位', '十位', '百位']:\n",
    "    rf_classifier_with_sum.fit(X_train_with_sum.drop(columns=['个位', '十位', '百位']), y_train[digit])\n",
    "    y_pred_with_interactions = rf_classifier_with_sum.predict(X_test_with_sum.drop(columns=['个位', '十位', '百位']))\n",
    "    accuracy_with_interactions = accuracy_score(y_test[digit], y_pred_with_interactions)\n",
    "    accuracy_results_with_interactions[digit] = accuracy_with_interactions\n",
    "\n",
    "accuracy_results_with_interactions\n"
   ]
  },
  {
   "cell_type": "code",
   "execution_count": 10,
   "id": "dfa25921455d19c6",
   "metadata": {
    "ExecuteTime": {
     "end_time": "2024-06-23T06:59:33.863855Z",
     "start_time": "2024-06-23T06:59:33.057567Z"
    }
   },
   "outputs": [
    {
     "data": {
      "text/plain": [
       "{'个位': 0.9863945578231292, '十位': 0.9965986394557823, '百位': 0.9965986394557823}"
      ]
     },
     "execution_count": 10,
     "metadata": {},
     "output_type": "execute_result"
    }
   ],
   "source": [
    "import numpy as np\n",
    "\n",
    "# 对数字位进行平方根变换\n",
    "X_train_with_sum['百位_sqrt'] = np.sqrt(X_train_with_sum['百位'])\n",
    "X_train_with_sum['十位_sqrt'] = np.sqrt(X_train_with_sum['十位'])\n",
    "X_train_with_sum['个位_sqrt'] = np.sqrt(X_train_with_sum['个位'])\n",
    "\n",
    "X_test_with_sum['百位_sqrt'] = np.sqrt(X_test_with_sum['百位'])\n",
    "X_test_with_sum['十位_sqrt'] = np.sqrt(X_test_with_sum['十位'])\n",
    "X_test_with_sum['个位_sqrt'] = np.sqrt(X_test_with_sum['个位'])\n",
    "\n",
    "# 创建平方根的组合特征\n",
    "X_train_with_sum['百十_sqrt和'] = X_train_with_sum['百位_sqrt'] + X_train_with_sum['十位_sqrt']\n",
    "X_train_with_sum['百个_sqrt和'] = X_train_with_sum['百位_sqrt'] + X_train_with_sum['个位_sqrt']\n",
    "X_train_with_sum['十个_sqrt和'] = X_train_with_sum['十位_sqrt'] + X_train_with_sum['个位_sqrt']\n",
    "\n",
    "X_test_with_sum['百十_sqrt和'] = X_test_with_sum['百位_sqrt'] + X_test_with_sum['十位_sqrt']\n",
    "X_test_with_sum['百个_sqrt和'] = X_test_with_sum['百位_sqrt'] + X_test_with_sum['个位_sqrt']\n",
    "X_test_with_sum['十个_sqrt和'] = X_test_with_sum['十位_sqrt'] + X_test_with_sum['个位_sqrt']\n",
    "\n",
    "# 重新训练模型并评估\n",
    "accuracy_results_with_sqrt = {}\n",
    "for digit in ['个位', '十位', '百位']:\n",
    "    # 训练模型\n",
    "    rf_classifier_with_sum.fit(X_train_with_sum.drop(columns=['个位', '十位', '百位']), y_train[digit])\n",
    "    # 预测测试集\n",
    "    y_pred_with_sqrt = rf_classifier_with_sum.predict(X_test_with_sum.drop(columns=['个位', '十位', '百位']))\n",
    "    # 计算准确率\n",
    "    accuracy_with_sqrt = accuracy_score(y_test[digit], y_pred_with_sqrt)\n",
    "    accuracy_results_with_sqrt[digit] = accuracy_with_sqrt\n",
    "\n",
    "accuracy_results_with_sqrt"
   ]
  }
 ],
 "metadata": {
  "kernelspec": {
   "display_name": "Python 3 (ipykernel)",
   "language": "python",
   "name": "python3"
  },
  "language_info": {
   "codemirror_mode": {
    "name": "ipython",
    "version": 3
   },
   "file_extension": ".py",
   "mimetype": "text/x-python",
   "name": "python",
   "nbconvert_exporter": "python",
   "pygments_lexer": "ipython3",
   "version": "3.7.12"
  }
 },
 "nbformat": 4,
 "nbformat_minor": 5
}
